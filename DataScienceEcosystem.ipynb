{
 "cells": [
  {
   "cell_type": "markdown",
   "id": "f29c5434-5d1b-4d62-b7f6-8f204cce1ea9",
   "metadata": {},
   "source": [
    "# Data Science Tools and Ecosystem"
   ]
  },
  {
   "cell_type": "markdown",
   "id": "e9225ac0-31de-4e88-8be2-f77869b3e912",
   "metadata": {},
   "source": [
    "In this notebook, Data Science Tools and Ecosystem are summarized."
   ]
  },
  {
   "cell_type": "markdown",
   "id": "e6686529-07d2-40f2-b963-c42e30bb5c77",
   "metadata": {},
   "source": [
    "**Objectives**\n",
    "- List popular languages in Data Science.\n",
    "- List popular libraries that Data Scientiest Use.\n",
    "- Provide examples of evaluation arithmetic expressions in Python.\n"
   ]
  },
  {
   "cell_type": "markdown",
   "id": "adbbaf0c-a102-4036-8cce-6203793b4963",
   "metadata": {},
   "source": [
    "Some of the popular languages in Data Science are:\n",
    "- SQL\n",
    "- Python\n",
    "- Java"
   ]
  },
  {
   "cell_type": "markdown",
   "id": "eb95d400-b485-4c73-b382-dbe8f7d5f267",
   "metadata": {},
   "source": [
    "Some of the popular libraries that Data Scientists use are:\n",
    "- Pandas\n",
    "- SciPy\n",
    "- NumPy"
   ]
  },
  {
   "cell_type": "markdown",
   "id": "4991c43f-3fbb-4e8f-997a-cf4c733b287c",
   "metadata": {},
   "source": [
    "| Data Science Tools |\n",
    "| ------------------ |\n",
    "| R Studio |\n",
    "| Pandas |\n",
    "| Jupiter Notebook |\n"
   ]
  },
  {
   "cell_type": "markdown",
   "id": "fb1702f4-323a-48ea-9f34-21979a3ac609",
   "metadata": {},
   "source": [
    "### Below are a few examples of evaluating arithmetic expressions in Python"
   ]
  },
  {
   "cell_type": "code",
   "execution_count": 12,
   "id": "813a9667-145f-4006-b160-eba7416bbdf5",
   "metadata": {},
   "outputs": [],
   "source": [
    "# This a simple arithmetic expression to mutiply then add integers"
   ]
  },
  {
   "cell_type": "code",
   "execution_count": 13,
   "id": "163a2c99-3c7e-414b-a780-a732344985c3",
   "metadata": {},
   "outputs": [
    {
     "data": {
      "text/plain": [
       "17"
      ]
     },
     "execution_count": 13,
     "metadata": {},
     "output_type": "execute_result"
    }
   ],
   "source": [
    "(3*4)+5"
   ]
  },
  {
   "cell_type": "code",
   "execution_count": 14,
   "id": "5493ef26-059e-4a6e-bd9d-c004fbfc4921",
   "metadata": {},
   "outputs": [],
   "source": [
    "# This will convert 200 minutes to hours by diving by 60"
   ]
  },
  {
   "cell_type": "code",
   "execution_count": 16,
   "id": "686a8318-8911-49a7-a199-1ce47a09db13",
   "metadata": {},
   "outputs": [
    {
     "data": {
      "text/plain": [
       "3.3333333333333335"
      ]
     },
     "execution_count": 16,
     "metadata": {},
     "output_type": "execute_result"
    }
   ],
   "source": [
    "200/60"
   ]
  },
  {
   "cell_type": "markdown",
   "id": "16a61c33-3b0d-4ad0-b0a0-7bb19a117bed",
   "metadata": {},
   "source": [
    "## Author\n",
    "Dominique Magallanes"
   ]
  },
  {
   "cell_type": "code",
   "execution_count": null,
   "id": "db8ba15b-ac38-4836-9f20-17d8900006aa",
   "metadata": {},
   "outputs": [],
   "source": []
  }
 ],
 "metadata": {
  "kernelspec": {
   "display_name": "Python 3 (ipykernel)",
   "language": "python",
   "name": "python3"
  },
  "language_info": {
   "codemirror_mode": {
    "name": "ipython",
    "version": 3
   },
   "file_extension": ".py",
   "mimetype": "text/x-python",
   "name": "python",
   "nbconvert_exporter": "python",
   "pygments_lexer": "ipython3",
   "version": "3.12.8"
  }
 },
 "nbformat": 4,
 "nbformat_minor": 5
}
